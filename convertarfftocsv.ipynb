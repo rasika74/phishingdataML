{
 "cells": [
  {
   "cell_type": "code",
   "execution_count": 2,
   "id": "82d9eccd-c6be-458e-ba80-bbc1d433b281",
   "metadata": {},
   "outputs": [],
   "source": [
    "import csv\n",
    "import pandas as pd"
   ]
  },
  {
   "cell_type": "code",
   "execution_count": 3,
   "id": "75f7ec44-bea9-4a63-a192-3489e41e7a32",
   "metadata": {},
   "outputs": [],
   "source": [
    "with open('data/Training Dataset.arff', 'r') as arff_file, open('data/Training Dataset.csv', 'w', newline='') as csv_file:\n",
    "    # Read the ARFF file line by line\n",
    "    lines = arff_file.readlines()\n",
    "\n",
    "    # Create a CSV writer object\n",
    "    writer = csv.writer(csv_file)\n",
    "\n",
    "    # Write the header row to the CSV file\n",
    "    header = [x.split()[1] for x in lines if x.startswith('@attribute')]\n",
    "    writer.writerow(header)\n",
    "\n",
    "    # Write the data rows to the CSV file\n",
    "    data_start = lines.index('@data\\n') + 1\n",
    "    for line in lines[data_start:]:\n",
    "        row = line.strip().split(',')\n",
    "        writer.writerow(row)"
   ]
  },
  {
   "cell_type": "code",
   "execution_count": null,
   "id": "1b000d8d-7fbc-4c78-ad97-5a33b6a63c39",
   "metadata": {},
   "outputs": [],
   "source": []
  }
 ],
 "metadata": {
  "kernelspec": {
   "display_name": "Python 3 (ipykernel)",
   "language": "python",
   "name": "python3"
  },
  "language_info": {
   "codemirror_mode": {
    "name": "ipython",
    "version": 3
   },
   "file_extension": ".py",
   "mimetype": "text/x-python",
   "name": "python",
   "nbconvert_exporter": "python",
   "pygments_lexer": "ipython3",
   "version": "3.12.3"
  }
 },
 "nbformat": 4,
 "nbformat_minor": 5
}
